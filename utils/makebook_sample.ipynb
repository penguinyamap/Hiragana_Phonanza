{
 "cells": [
  {
   "cell_type": "code",
   "execution_count": null,
   "id": "f024efb6",
   "metadata": {},
   "outputs": [],
   "source": [
    "#水匠10同士を対局させて角換わり37手目基本図から定跡作成\n",
    "\n",
    "#ファイルパスや将棋AIの名前など日本語を含めることができるが、asciiコードのみで書くのが無難。\n",
    "#Windowsのファイルパスに￥マークが含まれるが絶対に/に置換すること。\n",
    "\n",
    "#エラーが出た場合やPCが固まった場合はpythonのプロセスを落とす必要がある。てっとりばやくやるのであればPCの再起動を推奨。\n",
    "\n",
    "while True:\n",
    "    !python -u -m cshogi.cli C:/Users/RYZEN/Desktop/makebook_sample/Suisho10/YaneuraOu_NNUE_halfkp_512x2_8_64-V860DEV_ZEN2.exe C:/Users/RYZEN/Desktop/makebook_sample/Suisho10/YaneuraOu_NNUE_halfkp_512x2_8_64-V860DEV_ZEN2.exe --name1 Suisho10_1 --name1 Suisho10_2 --resign 500 --games 50 --csa \"C:/Users/RYZEN/Desktop/makebook_sample/csa\" --options1 \"Threads:4,USI_Hash:4096,NodesLimit:50000000,USI_Ponder:True,BookMoves:256,BookFile:standard_book.db,IgnoreBookPly:True, BookEvalDiff:0,BookDepthLimit:0, BookOnTheFly:false\" --options2 \"Threads:4,USI_Hash:4096,NodesLimit:50000000,USI_Ponder:True,BookMoves:256,BookFile:standard_book.db,IgnoreBookPly:True, BookEvalDiff:0,BookDepthLimit:0, BookOnTheFly:false\" --opening \"C:/Users/RYZEN/Desktop/makebook_sample/kakugawari37.sfen\" --opening-moves 37\n",
    "    !python -m dlshogi.utils.make_book_minmax \"C:/Users/RYZEN/Desktop/makebook_sample/csa\" \"C:/Users/RYZEN/Desktop/makebook_sample/Suisho10/book/standard_book.db\"  --th 2 --uniq --black_draw_value 0 --white_draw_value 1"
   ]
  },
  {
   "cell_type": "code",
   "execution_count": null,
   "id": "e688291a",
   "metadata": {},
   "outputs": [],
   "source": []
  }
 ],
 "metadata": {
  "kernelspec": {
   "display_name": "Python 3",
   "language": "python",
   "name": "python3"
  },
  "language_info": {
   "codemirror_mode": {
    "name": "ipython",
    "version": 3
   },
   "file_extension": ".py",
   "mimetype": "text/x-python",
   "name": "python",
   "nbconvert_exporter": "python",
   "pygments_lexer": "ipython3",
   "version": "3.8.6"
  }
 },
 "nbformat": 4,
 "nbformat_minor": 5
}
